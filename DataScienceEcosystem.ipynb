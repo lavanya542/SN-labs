{
 "cells": [
  {
   "cell_type": "markdown",
   "id": "17c13095-c0f7-47bd-8aea-b211b1599ea2",
   "metadata": {},
   "source": [
    "# Data Science Tools and Ecosystem"
   ]
  },
  {
   "cell_type": "markdown",
   "id": "4710f392-a11a-4ea6-940a-8696d5905b68",
   "metadata": {},
   "source": [
    "In this notebook, Data Science Tools and Ecosystem are summarized."
   ]
  },
  {
   "cell_type": "markdown",
   "id": "076f06fa-24de-4cb5-8740-6c67a3a8042b",
   "metadata": {},
   "source": [
    "# Data Science Tools and Ecosystem"
   ]
  },
  {
   "cell_type": "markdown",
   "id": "65620a1b-1d4c-4502-8cba-5c7b6324b166",
   "metadata": {},
   "source": [
    "###### In this notebook, Data Science Tools and Ecosystem are summarized."
   ]
  },
  {
   "cell_type": "markdown",
   "id": "a6ee23f8-d2df-4bcc-bdd6-cc60d7018eff",
   "metadata": {},
   "source": [
    "##### Some of the popular languages that Data Scientists use are:\n",
    "- python\n",
    "- R\n",
    "- java\n"
   ]
  },
  {
   "cell_type": "markdown",
   "id": "55bfdad6-1ae1-4a2f-9612-cffacf2f84f4",
   "metadata": {},
   "source": [
    "##### Some of the popular languages that Data Scientists use are:\n",
    "1. pyplot\n",
    "2. ggplot\n",
    "3. pandas\n",
    "4. numpy\n"
   ]
  },
  {
   "cell_type": "markdown",
   "id": "e114052c-3d80-4ca1-b6c1-60eb0d1489a0",
   "metadata": {},
   "source": [
    "| Data Science Tools |\n",
    "| -----------------|\n",
    "| pandas |\n",
    "| skikit learn |\n",
    "| seaborn |"
   ]
  },
  {
   "cell_type": "markdown",
   "id": "6541e794-fc5d-45ca-9f07-0a3a1d5b20d4",
   "metadata": {},
   "source": [
    "### Below are a few examples of evaluating arithmetic expressions in Python\n",
    "a =3\n",
    "b= 5\n",
    "c =a+b\n",
    "d =a*b"
   ]
  },
  {
   "cell_type": "code",
   "execution_count": 1,
   "id": "f8d66ce1-de53-443d-a0ba-378417a1a10f",
   "metadata": {
    "tags": []
   },
   "outputs": [
    {
     "data": {
      "text/plain": [
       "17"
      ]
     },
     "execution_count": 1,
     "metadata": {},
     "output_type": "execute_result"
    }
   ],
   "source": [
    "#This a simple arithmetic expression to mutiply then add integers\n",
    "(3*4)+5"
   ]
  },
  {
   "cell_type": "code",
   "execution_count": 2,
   "id": "e6e5f84c-db08-4649-be52-82f6d13ceb23",
   "metadata": {
    "tags": []
   },
   "outputs": [
    {
     "data": {
      "text/plain": [
       "3.3333333333333335"
      ]
     },
     "execution_count": 2,
     "metadata": {},
     "output_type": "execute_result"
    }
   ],
   "source": [
    "#This will convert 200 minutes to hours by diving by 60\n",
    "200/60"
   ]
  },
  {
   "cell_type": "markdown",
   "id": "2b63f2d6-4a14-4722-9dab-12024166dcb2",
   "metadata": {},
   "source": [
    "***Objectives:***\n",
    "- Some of the popular languages that Data Scientists use are\n",
    "- Data Science Tools\n",
    "\n",
    "\n"
   ]
  },
  {
   "cell_type": "markdown",
   "id": "fcfb07a7-c28c-4e4e-b478-ae618f2df4bf",
   "metadata": {},
   "source": [
    "### Author\n",
    "Rokkam Lavanya"
   ]
  },
  {
   "cell_type": "code",
   "execution_count": null,
   "id": "1135a605-442c-4ce7-9647-6c58118a9634",
   "metadata": {},
   "outputs": [],
   "source": []
  }
 ],
 "metadata": {
  "kernelspec": {
   "display_name": "Python",
   "language": "python",
   "name": "conda-env-python-py"
  },
  "language_info": {
   "codemirror_mode": {
    "name": "ipython",
    "version": 3
   },
   "file_extension": ".py",
   "mimetype": "text/x-python",
   "name": "python",
   "nbconvert_exporter": "python",
   "pygments_lexer": "ipython3",
   "version": "3.7.12"
  }
 },
 "nbformat": 4,
 "nbformat_minor": 5
}
